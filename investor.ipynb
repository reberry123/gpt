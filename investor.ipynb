{
 "cells": [
  {
   "cell_type": "code",
   "execution_count": 1,
   "id": "d715bc6c",
   "metadata": {},
   "outputs": [],
   "source": [
    "import os\n",
    "from dotenv import load_dotenv\n",
    "from langchain_google_genai import ChatGoogleGenerativeAI\n",
    "\n",
    "load_dotenv()\n",
    "api_key = os.getenv(\"GOOGLE_API_KEY\")\n",
    "\n",
    "llm = ChatGoogleGenerativeAI(\n",
    "    model=\"gemini-1.5-flash\",\n",
    "    google_api_key=api_key,\n",
    "    temperature=0.1,\n",
    "    )"
   ]
  },
  {
   "cell_type": "code",
   "execution_count": 14,
   "id": "ec163296",
   "metadata": {},
   "outputs": [
    {
     "name": "stdout",
     "output_type": "stream",
     "text": [
      "\n",
      "\n",
      "\u001b[1m> Entering new AgentExecutor chain...\u001b[0m\n",
      "\u001b[32;1m\u001b[1;3mThought: I need to find information about the XZ backdoor.  A Wikipedia search might be good for a general overview, but I might need to supplement with a DuckDuckGo search for more up-to-date or less formally documented information.\n",
      "\n",
      "Action: Search To Wikipedia Function\n",
      "Action Input: XZ backdoor\u001b[0m\n",
      "Observation: \u001b[33;1m\u001b[1;3mPage: XZ Utils backdoor\n",
      "Summary: In February 2024, a malicious backdoor was introduced to the Linux build of the xz utility within the liblzma library in versions 5.6.0 and 5.6.1 by an account using the name \"Jia Tan\". The backdoor gives an attacker who possesses a specific Ed448 private key remote code execution through OpenSSH on the affected Linux system. The issue has been given the Common Vulnerabilities and Exposures number CVE-2024-3094 and has been assigned a CVSS score of 10.0, the highest possible score.\n",
      "While xz is commonly present in most Linux distributions, at the time of discovery the backdoored version had not yet been widely deployed to production systems, but was present in development versions of major distributions. The backdoor was discovered by the software developer Andres Freund, who announced his findings on 29 March 2024.\n",
      "\n",
      "Page: XZ Utils\n",
      "Summary: XZ Utils (previously LZMA Utils) is a set of free software command-line lossless data compressors, including the programs lzma and xz, for Unix-like operating systems and, from version 5.0 onwards, Microsoft Windows. For compression/decompression the Lempel–Ziv–Markov chain algorithm (LZMA) is used. XZ Utils started as a Unix port of Igor Pavlov's LZMA-SDK that has been adapted to fit seamlessly into Unix environments and their usual structure and behavior.\n",
      "\n",
      "Page: Backdoor (computing)\n",
      "Summary: A backdoor is a typically covert method of bypassing normal authentication or encryption in a computer, product, embedded device (e.g. a home router), or its embodiment (e.g. part of a cryptosystem, algorithm, chipset, or even a \"homunculus computer\"—a tiny computer-within-a-computer such as that found in Intel's AMT technology). Backdoors are most often used for securing remote access to a computer, or obtaining access to plaintext in cryptosystems. From there it may be used to gain access to privileged information like passwords, corrupt or delete data on hard drives, or transfer information within autoschediastic networks.\n",
      "In the United States, the 1994 Communications Assistance for Law Enforcement Act forces internet providers to provide backdoors for government authorities.  In 2024, the U.S. government realized that China had been tapping communications in the U.S. using that infrastructure for months, or perhaps longer; China recorded presidential candidate campaign office phone calls —including employees of the then-vice president of the nation– and of the candidates themselves.\n",
      "A backdoor may take the form of a hidden part of a program, a separate program (e.g. Back Orifice may subvert the system through a rootkit), code in the firmware of the hardware, or parts of an operating system such as Windows. Trojan horses can be used to create vulnerabilities in a device. A Trojan horse may appear to be an entirely legitimate program, but when executed, it triggers an activity that may install a backdoor. Although some are secretly installed, other backdoors are deliberate and widely known. These kinds of backdoors have \"legitimate\" uses such as providing the manufacturer with a way to restore user passwords.\n",
      "Many systems that store information within the cloud fail to create accurate security measures. If many systems are connected within the cloud, hackers can gain access to all other platforms through the most vulnerable system. Default passwords (or other default credentials) can function as backdoors if they are not changed by the user. Some debugging features can also act as backdoors if they are not removed in the release version. In 1993, the United States government attempted to deploy an encryption system, the Clipper chip, with an explicit backdoor for law enforcement and national security access. The chip was unsuccessful.\n",
      "Recent proposals to counter backdoors include creating a database of backdoors' triggers and then using neural networks to detect them.\u001b[0m\n",
      "Thought:\u001b[32;1m\u001b[1;3mThought: The Wikipedia search provided a good overview of the XZ backdoor incident.  I should save this information and then perhaps do a DuckDuckGo search for any news articles or discussions that might offer additional perspectives or details.\n",
      "\n",
      "Action: Save Research Function\n",
      "Action Input: xz_backdoor_wikipedia.txt |  In February 2024, a malicious backdoor was introduced to the Linux build of the xz utility within the liblzma library in versions 5.6.0 and 5.6.1 by an account using the name \"Jia Tan\". The backdoor gives an attacker who possesses a specific Ed448 private key remote code execution through OpenSSH on the affected Linux system. The issue has been given the Common Vulnerabilities and Exposures number CVE-2024-3094 and has been assigned a CVSS score of 10.0, the highest possible score. While xz is commonly present in most Linux distributions, at the time of discovery the backdoored version had not yet been widely deployed to production systems, but was present in development versions of major distributions. The backdoor was discovered by the software developer Andres Freund, who announced his findings on 29 March 2024.  XZ Utils (previously LZMA Utils) is a set of free software command-line lossless data compressors, including the programs lzma and xz, for Unix-like operating systems and, from version 5.0 onwards, Microsoft Windows. For compression/decompression the Lempel–Ziv–Markov chain algorithm (LZMA) is used. XZ Utils started as a Unix port of Igor Pavlov's LZMA-SDK that has been adapted to fit seamlessly into Unix environments and their usual structure and behavior. A backdoor is a typically covert method of bypassing normal authentication or encryption in a computer, product, embedded device (e.g. a home router), or its embodiment (e.g. part of a cryptosystem, algorithm, chipset, or even a \"homunculus computer\"—a tiny computer-within-a-computer such as that found in Intel's AMT technology). Backdoors are most often used for securing remote access to a computer, or obtaining access to plaintext in cryptosystems. From there it may be used to gain access to privileged information like passwords, corrupt or delete data on hard drives, or transfer information within autoschediastic networks.\u001b[0m\n",
      "Observation: \u001b[38;5;200m\u001b[1;3mNone\u001b[0m\n",
      "Thought:\u001b[32;1m\u001b[1;3mThought: I will now search DuckDuckGo for more information, focusing on news articles and discussions about the XZ backdoor incident to supplement the Wikipedia information.\n",
      "\n",
      "Action: Search To DuckDuckGo Function\n",
      "Action Input: \"XZ backdoor CVE-2024-3094\"\u001b[0m\n",
      "Observation: \u001b[36;1m\u001b[1;3mXZ Utils Data Compression Library CVE-2024-3094 (Critical) Issued: April 3rd 2024 Updated: NA Next Schedule Update: NA Version: 1.0 Severity: Critical . GENERAL INFORMATION . ... XZ-Backdoor-CVE-2024-3094-Critical. Article Record Type. FAQ. Attachments. Refresh. Navigation Mode Action Mode. Executive Summary. CVE-2024-3094 is a critical supply chain vulnerability discovered in the XZ Utils compression library, specifically affecting versions 5.6.0 and 5.6.1. This vulnerability involves a malicious backdoor embedded in the upstream tarballs of the xz package. The backdoor was obfuscated within the build process of liblzma, a core component of XZ Utils, and could be triggered ... The CVE-2024-3094 backdoor serves as a stark reminder that security diligence is paramount, even in the seemingly innocuous world of compression utilities. As a community, we must remain ... The CVE-2024-3094 vulnerability was embedded through sophisticated multi-stage obfuscation and encryption techniques, making detection particularly challenging. The backdoor was designed to execute malicious payloads discreetly, exploiting the trust in the XZ Utils' widespread adoption across various Linux distributions. What is CVE-2024-3094? Recently, a critical security problem, known as CVE-2024-3094, was found in the XZ Utils library. XZ Utils is a set of open-source command-line tools and libraries for lossless data compression on various Linux systems.\u001b[0m\n",
      "Thought:\u001b[32;1m\u001b[1;3mThought: I now have a good understanding of the XZ backdoor incident from both Wikipedia and DuckDuckGo searches.  I can synthesize this information into a final answer.\n",
      "\n",
      "Final Answer: The XZ backdoor (CVE-2024-3094) was a critical vulnerability discovered in versions 5.6.0 and 5.6.1 of the XZ Utils compression library.  Introduced by an account using the name \"Jia Tan\" in February 2024, this backdoor allowed remote code execution via OpenSSH on affected Linux systems if an attacker possessed a specific Ed448 private key.  While not widely deployed to production systems at the time of discovery (March 29, 2024), it was present in development versions of major distributions.  The backdoor was sophisticated, using multi-stage obfuscation and encryption, and highlighted the importance of supply chain security, even in seemingly innocuous software like compression utilities.  The vulnerability was discovered by Andres Freund.  The CVSS score was 10.0, the highest possible.\u001b[0m\n",
      "\n",
      "\u001b[1m> Finished chain.\u001b[0m\n"
     ]
    },
    {
     "data": {
      "text/plain": [
       "{'input': 'Research about XZ backdoor.',\n",
       " 'output': 'The XZ backdoor (CVE-2024-3094) was a critical vulnerability discovered in versions 5.6.0 and 5.6.1 of the XZ Utils compression library.  Introduced by an account using the name \"Jia Tan\" in February 2024, this backdoor allowed remote code execution via OpenSSH on affected Linux systems if an attacker possessed a specific Ed448 private key.  While not widely deployed to production systems at the time of discovery (March 29, 2024), it was present in development versions of major distributions.  The backdoor was sophisticated, using multi-stage obfuscation and encryption, and highlighted the importance of supply chain security, even in seemingly innocuous software like compression utilities.  The vulnerability was discovered by Andres Freund.  The CVSS score was 10.0, the highest possible.'}"
      ]
     },
     "execution_count": 14,
     "metadata": {},
     "output_type": "execute_result"
    }
   ],
   "source": [
    "from langchain.agents import initialize_agent, AgentType\n",
    "from langchain.tools import Tool\n",
    "from langchain.schema.messages import SystemMessage\n",
    "from langchain.agents.agent_toolkits import FileManagementToolkit\n",
    "from langchain.utilities import DuckDuckGoSearchAPIWrapper, WikipediaAPIWrapper\n",
    "\n",
    "def SearchToDDG(query):\n",
    "    ddg = DuckDuckGoSearchAPIWrapper()\n",
    "    return ddg.run(query)\n",
    "\n",
    "def SearchToWikipedia(query):\n",
    "    wiki = WikipediaAPIWrapper()\n",
    "    return wiki.run(query)\n",
    "\n",
    "def write_file(input):\n",
    "    file_path, content = input.split(\"|\")\n",
    "    file_path = file_path.strip()\n",
    "    with open(file_path, \"w\", encoding=\"utf-8\") as f:\n",
    "        f.write(content.strip())\n",
    "\n",
    "ddg_tool = Tool.from_function(\n",
    "            func=SearchToDDG,\n",
    "            name=\"Search To DuckDuckGo Function\",\n",
    "            description= \"Use this function to search DuckDuckGo\"\n",
    "        )\n",
    "\n",
    "wiki_tool = Tool.from_function(\n",
    "            func=SearchToWikipedia,\n",
    "            name=\"Search To Wikipedia Function\",\n",
    "            description=\"Use this function to search Wikipedia for factual information.\"\n",
    "        )\n",
    "\n",
    "write_tool = Tool.from_function(\n",
    "            func=write_file,\n",
    "            name=\"Save Research Function\",\n",
    "            description=\"Use this to save the research to a .txt file. Input format: filename.txt | content to write\"\n",
    "        )\n",
    "\n",
    "agent = initialize_agent(\n",
    "    llm=llm,\n",
    "    verbose=True,\n",
    "    agent=AgentType.ZERO_SHOT_REACT_DESCRIPTION,\n",
    "    handle_parsing_errors=True,\n",
    "    tools=[\n",
    "        ddg_tool,\n",
    "        wiki_tool,\n",
    "        write_tool,\n",
    "    ],\n",
    "    agent_kwargs={\n",
    "        \"system_message\": SystemMessage(content=\"\"\"\n",
    "            You are a helpful assistant.\n",
    "                                        \n",
    "            You should try to search in Wikipedia or DuckDuckGo. If you find a website in\n",
    "            DuckDuckGo, you should enter the website and extract it's content.\n",
    "                                        \n",
    "            You should finish by saving the research to a .txt file.\n",
    "            \"\"\")\n",
    "    }\n",
    ")\n",
    "\n",
    "agent.invoke(\"Research about XZ backdoor.\")"
   ]
  }
 ],
 "metadata": {
  "kernelspec": {
   "display_name": "env",
   "language": "python",
   "name": "python3"
  },
  "language_info": {
   "codemirror_mode": {
    "name": "ipython",
    "version": 3
   },
   "file_extension": ".py",
   "mimetype": "text/x-python",
   "name": "python",
   "nbconvert_exporter": "python",
   "pygments_lexer": "ipython3",
   "version": "3.11.6"
  }
 },
 "nbformat": 4,
 "nbformat_minor": 5
}
