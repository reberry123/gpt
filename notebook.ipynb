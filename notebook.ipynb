{
 "cells": [
  {
   "cell_type": "code",
   "execution_count": 3,
   "id": "7705ba4b",
   "metadata": {},
   "outputs": [],
   "source": [
    "import os\n",
    "from dotenv import load_dotenv\n",
    "from langchain_google_genai import ChatGoogleGenerativeAI\n",
    "from langchain.callbacks import StreamingStdOutCallbackHandler\n",
    "\n",
    "load_dotenv()\n",
    "api_key = os.getenv(\"GOOGLE_API_KEY\")\n",
    "\n",
    "chat = ChatGoogleGenerativeAI(\n",
    "    model=\"gemini-1.5-flash\",\n",
    "    google_api_key=api_key,\n",
    "    temperature=0.8,\n",
    "    )"
   ]
  },
  {
   "cell_type": "code",
   "execution_count": 58,
   "id": "d2fc7604",
   "metadata": {},
   "outputs": [
    {
     "data": {
      "text/plain": [
       "AIMessage(content='Here is the poem you provided:\\n\\n**O Java, stalwart, strong, and vast,**\\n**A titan built to surely last.**\\n**With curly braces, neatly bound,**\\n**Your object-oriented world profound.**\\n\\n**From humble start, a platform\\'s might,**\\n**You power systems, day and night.**\\n**The Android realm, your vibrant hue,**\\n**A billion screens reflecting you.**\\n\\n**Though verbose some might claim you be,**\\n**Your structure grants stability.**\\n**A fortress built of class and type,**\\n**Where errors seldom leap and swipe.**\\n\\n**From enterprise to simple game,**\\n**Your versatility proclaims**\\n**A legacy of code so deep,**\\n**While newer tongues their secrets keep.**\\n\\n**Yet in your strength, a certain grace,**\\n**A steady hand, a measured pace.**\\n**O Java, ever strong and true,**\\n**Your reign continues, ever new.**\\n\\n\\nThis poem is a celebratory ode to the Java programming language.  It employs a consistently elevated tone, using elevated diction (\"stalwart,\" \"titan,\" \"profound,\" \"legacy\") and strong imagery to create a sense of awe and respect for the subject.  The poem is structured as a classic ode, praising Java\\'s qualities and longevity.\\n\\nThe poem cleverly uses metaphors to depict Java\\'s characteristics.  It\\'s described as a \"titan,\" highlighting its power and enduring nature. The \"curly braces, neatly bound\" represent the syntax and structure, while the \"object-oriented world profound\" speaks to its underlying philosophy. The image of a \"fortress built of class and type\" emphasizes its robustness and error-handling capabilities.  The contrast between its \"verbose\" nature (a common criticism) and its \"stability\" is effectively presented, highlighting the trade-offs inherent in its design.\\n\\nThe mention of Android underscores Java\\'s significant impact on the mobile world,  showing the breadth of its applications.  The final stanza beautifully balances the strength and power with a sense of \"grace\" and \"measured pace,\" suggesting a balance of efficiency and elegance.\\n\\nThe poem successfully appeals to both programmers who understand the technical details and a broader audience familiar with the significance of Java in the tech world. It achieves this by blending technical vocabulary (\"object-oriented,\" \"class and type\") with more accessible imagery and celebratory language.  It\\'s a testament to the enduring power and influence of a programming language, presented in a surprisingly elegant and poetic form.', additional_kwargs={}, response_metadata={'prompt_feedback': {'block_reason': 0, 'safety_ratings': []}, 'finish_reason': 'STOP', 'model_name': 'gemini-1.5-flash', 'safety_ratings': []}, id='run--e2e4028f-3489-4520-999b-84149fb01781-0', usage_metadata={'input_tokens': 343, 'output_tokens': 513, 'total_tokens': 856, 'input_token_details': {'cache_read': 0}})"
      ]
     },
     "execution_count": 58,
     "metadata": {},
     "output_type": "execute_result"
    }
   ],
   "source": [
    "from langchain_core.prompts import ChatPromptTemplate\n",
    "from langchain.schema.output_parser import StrOutputParser\n",
    "\n",
    "generate_prompt = ChatPromptTemplate.from_messages([\n",
    "    (\"system\", \"You are an creative and artistic poet. Write a poem about the following programming languages.\"),\n",
    "    (\"user\", \"language: {lang}\"),\n",
    "])\n",
    "\n",
    "explain_prompt = ChatPromptTemplate.from_messages([\n",
    "    (\"system\", \"You are a literary critic who can clearly and insightfully describe a given poem. Show the given poem to the user and add a description of it.\"),\n",
    "    (\"user\", \"poem: {poem}\"),\n",
    "])\n",
    "\n",
    "generate_chain = generate_prompt | chat\n",
    "explain_chain = explain_prompt | chat\n",
    "final_chain = {\"poem\": generate_chain} | explain_chain\n",
    "\n",
    "final_chain.invoke({\"lang\": \"Java\"})"
   ]
  },
  {
   "cell_type": "code",
   "execution_count": null,
   "id": "31d2dfef",
   "metadata": {},
   "outputs": [],
   "source": []
  },
  {
   "cell_type": "code",
   "execution_count": 20,
   "id": "699ee311",
   "metadata": {},
   "outputs": [
    {
     "data": {
      "text/plain": [
       "AIMessage(content='I know this:\\n\\nDirected by: Chris Buck, Jennifer Lee\\nStarring: Kristen Bell, Idina Menzel, Jonathan Groff\\nBudget: $150 million\\nBox office: $1.28 billion\\nGenre: Animated musical fantasy\\n\\nPlot Summary: Two sisters, Elsa and Anna, who are princesses, have magical powers. Elsa can create ice and snow, but she accidentally injures Anna.  As a result, Elsa isolates herself, and when her powers are revealed, she accidentally plunges their kingdom into an eternal winter. Anna sets out on a journey to find Elsa and reverse the curse.', additional_kwargs={}, response_metadata={'prompt_feedback': {'block_reason': 0, 'safety_ratings': []}, 'finish_reason': 'STOP', 'model_name': 'gemini-1.5-flash', 'safety_ratings': []}, id='run--730e7268-d4b1-4508-a1cf-91a152aebeaf-0', usage_metadata={'input_tokens': 247, 'output_tokens': 126, 'total_tokens': 373, 'input_token_details': {'cache_read': 0}})"
      ]
     },
     "execution_count": 20,
     "metadata": {},
     "output_type": "execute_result"
    }
   ],
   "source": [
    "from langchain_core.prompts.few_shot import FewShotPromptTemplate, FewShotChatMessagePromptTemplate\n",
    "from langchain_core.prompts import ChatPromptTemplate\n",
    "\n",
    "examples = [\n",
    "    {\n",
    "        \"film\": \"Avatar\",\n",
    "        \"answer\": \"\"\"\n",
    "        I know this:\n",
    "        Directed by: James Cameron\n",
    "        Starring: Sam Worthington, Zoe Saldana, Stephen Lang, Michelle Rodriguez, Sigourney Weaver\n",
    "        Budget: $237 million\n",
    "        Box office: $2,923 billion\n",
    "        Genre: Science fiction\n",
    "        \"\"\"\n",
    "    },\n",
    "    {\n",
    "        \"film\": \"The Avengers\",\n",
    "        \"answer\": \"\"\"\n",
    "        I know this:\n",
    "        Directed by: Joss Whedon\n",
    "        Starring: Robert Downey Jr., Chris Evans, Mark Ruffalo, Chris Hemsworth, Scarlett Johansson\n",
    "        Budget: $220-225 million\n",
    "        Box office: $1,521 billion\n",
    "        Genre: Superhero\n",
    "        \"\"\"\n",
    "    },\n",
    "    {\n",
    "        \"film\": \"Your Name\",\n",
    "        \"answer\": \"\"\"\n",
    "        I know this:\n",
    "        Directed by: Makoto Shinkai\n",
    "        Starring: Ryunosuke Kamiki, Mone Kamishiraishi\n",
    "        Budget: ¥750 million (≈$7.5 million)\n",
    "        Box office: $405.3 million\n",
    "        Genre: Anime, Fantasy\n",
    "        \"\"\"\n",
    "    },\n",
    "]\n",
    "\n",
    "example_prompt = ChatPromptTemplate.from_messages([\n",
    "    (\"user\", \"What do you know about {film}?\"),\n",
    "    (\"ai\", \"{answer}\"),\n",
    "])\n",
    "\n",
    "example_prompt = FewShotChatMessagePromptTemplate(\n",
    "    example_prompt=example_prompt,\n",
    "    examples=examples,\n",
    ")\n",
    "\n",
    "final_prompt = ChatPromptTemplate.from_messages([\n",
    "    (\"system\", \"You are a film expert. You give short answers and add a short plot summary of given film.\"),\n",
    "    example_prompt,\n",
    "    (\"user\", \"What do you know about {film}?\")\n",
    "])\n",
    "\n",
    "chain = final_prompt | chat\n",
    "\n",
    "chain.invoke({\n",
    "    \"film\": \"Frozen\"\n",
    "})"
   ]
  },
  {
   "cell_type": "code",
   "execution_count": 20,
   "id": "416204f8",
   "metadata": {},
   "outputs": [
    {
     "name": "stdout",
     "output_type": "stream",
     "text": [
      "🪐👨‍🚀⏳\n",
      "🦖🦕🌴\n"
     ]
    }
   ],
   "source": [
    "from langchain_core.prompts.few_shot import FewShotChatMessagePromptTemplate\n",
    "from langchain_core.prompts import PromptTemplate, ChatPromptTemplate, MessagesPlaceholder\n",
    "from langchain_core.runnables import RunnablePassthrough\n",
    "from langchain.memory import ConversationBufferWindowMemory\n",
    "from langchain_core.messages import HumanMessage, AIMessage\n",
    "\n",
    "examples = [\n",
    "    {\n",
    "        \"film\": \"Top Gun\",\n",
    "        \"answer\": \"🛩👨‍✈️🔥\"\n",
    "    },\n",
    "    {\n",
    "        \"film\": \"The Godfather\",\n",
    "        \"answer\": \"👨‍👨‍👦🔫🍝\"\n",
    "    },\n",
    "    {\n",
    "        \"film\": \"Titanic\",\n",
    "        \"answer\": \"🚢💔🌊\"\n",
    "    },\n",
    "]\n",
    "\n",
    "example_prompt = ChatPromptTemplate.from_messages([\n",
    "    (\"user\", \"{film}\"),\n",
    "    (\"ai\", \"{answer}\"),\n",
    "])\n",
    "\n",
    "example_prompt = FewShotChatMessagePromptTemplate(\n",
    "    example_prompt=example_prompt,\n",
    "    examples=examples,\n",
    ")\n",
    "\n",
    "memory = ConversationBufferWindowMemory(\n",
    "    return_messages=True,\n",
    "    k=4,\n",
    ")\n",
    "\n",
    "final_prompt = ChatPromptTemplate.from_messages([\n",
    "    (\"system\", \"You are a film expert. Your answer should be up to 3 emojis\"),\n",
    "    example_prompt,\n",
    "    MessagesPlaceholder(variable_name=\"history\"),\n",
    "    (\"human\", \"{film}\")\n",
    "])\n",
    "\n",
    "def load_memory(_):\n",
    "    return memory.load_memory_variables({})[\"history\"]\n",
    "\n",
    "chain = RunnablePassthrough.assign(history=load_memory) | final_prompt | chat\n",
    "\n",
    "def invoke_chain(film):\n",
    "    result = chain.invoke({\"film\": film})\n",
    "    memory.save_context(\n",
    "        {\"input\": film},\n",
    "        {\"output\": result.content}\n",
    "    )\n",
    "    print(result.content)\n",
    "\n",
    "invoke_chain(\"Interstellar\")\n",
    "invoke_chain(\"Jurassic World\")"
   ]
  },
  {
   "cell_type": "code",
   "execution_count": 21,
   "id": "841ae0f7",
   "metadata": {},
   "outputs": [
    {
     "name": "stdout",
     "output_type": "stream",
     "text": [
      "🦖🦕🌴\n"
     ]
    }
   ],
   "source": [
    "invoke_chain(\"The previous movie I asked\")"
   ]
  },
  {
   "cell_type": "code",
   "execution_count": 1,
   "id": "959eb3f0",
   "metadata": {},
   "outputs": [],
   "source": [
    "from langchain_community.document_loaders.text import TextLoader\n",
    "from langchain_text_splitters import CharacterTextSplitter\n",
    "from langchain_google_genai.embeddings import GoogleGenerativeAIEmbeddings\n",
    "from langchain.embeddings import CacheBackedEmbeddings\n",
    "from langchain.vectorstores import FAISS\n",
    "from langchain.storage import LocalFileStore\n",
    "\n",
    "loader = TextLoader(\"./files/doc.txt\")\n",
    "splitter = CharacterTextSplitter.from_tiktoken_encoder(\n",
    "    separator=\"\\n\",\n",
    "    chunk_size=600,\n",
    "    chunk_overlap=100\n",
    ")\n",
    "embeddings = GoogleGenerativeAIEmbeddings(model=\"models/embedding-001\")\n",
    "cache_dir = LocalFileStore(\"./.cache/\")\n",
    "cached_embeddings = CacheBackedEmbeddings.from_bytes_store(\n",
    "    embeddings, cache_dir\n",
    ")\n",
    "\n",
    "docs = loader.load_and_split(text_splitter=splitter)\n",
    "vectorstore = FAISS.from_documents(docs, cached_embeddings)\n",
    "\n"
   ]
  },
  {
   "cell_type": "code",
   "execution_count": 4,
   "id": "9f1f9443",
   "metadata": {},
   "outputs": [
    {
     "name": "stdout",
     "output_type": "stream",
     "text": [
      "The text states that Jones, Aaronson, and Rutherford were guilty of the crimes they were charged with, and that Winston had never seen the photograph that disproved their guilt because it had never existed.\n",
      "He wrote \"2 + 2 = 5\" in the dust on the table.\n",
      "Julia is a woman with whom Winston had a forbidden relationship.\n"
     ]
    }
   ],
   "source": [
    "from langchain_core.prompts import ChatPromptTemplate, MessagesPlaceholder\n",
    "from langchain_core.runnables import RunnablePassthrough\n",
    "from langchain.memory import ConversationBufferMemory\n",
    "\n",
    "memory = ConversationBufferMemory(\n",
    "    return_messages=True,\n",
    ")\n",
    "\n",
    "retriever = vectorstore.as_retriever()\n",
    "\n",
    "def load_memory(_):\n",
    "    return memory.load_memory_variables({})[\"history\"]\n",
    "\n",
    "def get_retriever(_):\n",
    "    return vectorstore.as_retriever()\n",
    "\n",
    "def invoke_chain(question):\n",
    "    result = chain.invoke({\n",
    "        \"context\": vectorstore.similarity_search(question),\n",
    "    \"question\": question,\n",
    "    })\n",
    "    memory.save_context(\n",
    "        {\"input\": question},\n",
    "        {\"output\": result.content}\n",
    "    )\n",
    "    print(result.content)\n",
    "\n",
    "prompt = ChatPromptTemplate.from_messages([\n",
    "    (\"system\", \"You are a helpful assistant. Answer questions using only the following context. If you don't know the answer just say you don't know, don't make it up:\\n\\n{context}\"),\n",
    "    MessagesPlaceholder(variable_name=\"history\"),\n",
    "    (\"human\", \"{question}\")\n",
    "])\n",
    "\n",
    "chain = RunnablePassthrough.assign(history=load_memory) | prompt | chat\n",
    "\n",
    "invoke_chain(\"Is Aaronson guilty?\")\n",
    "invoke_chain(\"What message did he write on the table?\")\n",
    "invoke_chain(\"Who is Julia?\")"
   ]
  }
 ],
 "metadata": {
  "kernelspec": {
   "display_name": "env",
   "language": "python",
   "name": "python3"
  },
  "language_info": {
   "codemirror_mode": {
    "name": "ipython",
    "version": 3
   },
   "file_extension": ".py",
   "mimetype": "text/x-python",
   "name": "python",
   "nbconvert_exporter": "python",
   "pygments_lexer": "ipython3",
   "version": "3.11.6"
  }
 },
 "nbformat": 4,
 "nbformat_minor": 5
}
